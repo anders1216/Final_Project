{
 "cells": [
  {
   "cell_type": "code",
   "execution_count": 50,
   "metadata": {
    "collapsed": false
   },
   "outputs": [],
   "source": [
    "#here im importing all the libraries I might need to accomplish my project\n",
    "\n",
    "import pandas as pd\n",
    "import matplotlib.pyplot as plt\n",
    "import statsmodels.api as sm\n",
    "import scipy\n",
    "import numpy as np\n",
    "import xlsxwriter\n",
    "import matplotlib.pyplot as plt\n",
    "%matplotlib inline"
   ]
  },
  {
   "cell_type": "code",
   "execution_count": 44,
   "metadata": {
    "collapsed": false
   },
   "outputs": [],
   "source": [
    "#here im loeading my data let and nameing it filename\n",
    "filename = pd.read_stata('../data/anes_specialstudy_2012_directdem.dta')"
   ]
  },
  {
   "cell_type": "code",
   "execution_count": 45,
   "metadata": {
    "collapsed": false
   },
   "outputs": [
    {
     "name": "stdout",
     "output_type": "stream",
     "text": [
      "Index(['dd_version', 'dd_caseid', 'caseid', 'weight_pre', 'weight_post',\n",
      "       'main_anes', 'sample', 'dd_pid_x', 'dd_rvote2012_x',\n",
      "       'dd_presvote2012_x'],\n",
      "      dtype='object')\n",
      "Index(['dd_presvote2012_x', 'tm_start_ddpre', 'tm_finish_ddpre',\n",
      "       'duration_ddpre', 'pre_xlike2', 'pre_revist_split', 'pre_xnoadd',\n",
      "       'dem_hsename', 'dem_hseparty', 'rep_hsename', 'rep_hseparty'],\n",
      "      dtype='object')\n"
     ]
    }
   ],
   "source": [
    "#here tiffany helped me to print out the column headers for columns 0-9 and 9-20\n",
    "\n",
    "print(filename.columns[0:10])\n",
    "print(filename.columns[9:20])"
   ]
  },
  {
   "cell_type": "code",
   "execution_count": 75,
   "metadata": {
    "collapsed": false
   },
   "outputs": [],
   "source": [
    "#here im munging the data so I have only the persons case id, their party affiliation and whoe they voted for for president.\n",
    "percept_vote = filename[['dd_caseid', 'dd_pid_x', 'dd_presvote2012_x']]"
   ]
  },
  {
   "cell_type": "code",
   "execution_count": 80,
   "metadata": {
    "collapsed": false
   },
   "outputs": [
    {
     "data": {
      "text/html": [
       "<div>\n",
       "<table border=\"1\" class=\"dataframe\">\n",
       "  <thead>\n",
       "    <tr style=\"text-align: right;\">\n",
       "      <th></th>\n",
       "      <th>Case_ID</th>\n",
       "      <th>Party_Affiliation</th>\n",
       "      <th>Pres_Vote</th>\n",
       "    </tr>\n",
       "  </thead>\n",
       "  <tbody>\n",
       "    <tr>\n",
       "      <th>0</th>\n",
       "      <td>20001</td>\n",
       "      <td>2. Not very strong Democrat</td>\n",
       "      <td>1. Barack Obama (Democrat)</td>\n",
       "    </tr>\n",
       "    <tr>\n",
       "      <th>1</th>\n",
       "      <td>20002</td>\n",
       "      <td>6. Not very strong Republican</td>\n",
       "      <td>-6</td>\n",
       "    </tr>\n",
       "    <tr>\n",
       "      <th>2</th>\n",
       "      <td>20003</td>\n",
       "      <td>2. Not very strong Democrat</td>\n",
       "      <td>1. Barack Obama (Democrat)</td>\n",
       "    </tr>\n",
       "    <tr>\n",
       "      <th>3</th>\n",
       "      <td>20004</td>\n",
       "      <td>2. Not very strong Democrat</td>\n",
       "      <td>1. Barack Obama (Democrat)</td>\n",
       "    </tr>\n",
       "    <tr>\n",
       "      <th>4</th>\n",
       "      <td>20005</td>\n",
       "      <td>6. Not very strong Republican</td>\n",
       "      <td>2. Mitt Romney (Republican)</td>\n",
       "    </tr>\n",
       "    <tr>\n",
       "      <th>5</th>\n",
       "      <td>20006</td>\n",
       "      <td>4. Independent</td>\n",
       "      <td>-2</td>\n",
       "    </tr>\n",
       "    <tr>\n",
       "      <th>6</th>\n",
       "      <td>20007</td>\n",
       "      <td>5. Ind, closer to Republican</td>\n",
       "      <td>2. Mitt Romney (Republican)</td>\n",
       "    </tr>\n",
       "    <tr>\n",
       "      <th>7</th>\n",
       "      <td>20008</td>\n",
       "      <td>7. Strong Republican</td>\n",
       "      <td>2. Mitt Romney (Republican)</td>\n",
       "    </tr>\n",
       "    <tr>\n",
       "      <th>8</th>\n",
       "      <td>20009</td>\n",
       "      <td>1. Strong Democrat</td>\n",
       "      <td>1. Barack Obama (Democrat)</td>\n",
       "    </tr>\n",
       "    <tr>\n",
       "      <th>9</th>\n",
       "      <td>20010</td>\n",
       "      <td>4. Independent</td>\n",
       "      <td>2. Mitt Romney (Republican)</td>\n",
       "    </tr>\n",
       "    <tr>\n",
       "      <th>10</th>\n",
       "      <td>20011</td>\n",
       "      <td>2. Not very strong Democrat</td>\n",
       "      <td>1. Barack Obama (Democrat)</td>\n",
       "    </tr>\n",
       "    <tr>\n",
       "      <th>11</th>\n",
       "      <td>20012</td>\n",
       "      <td>6. Not very strong Republican</td>\n",
       "      <td>2. Mitt Romney (Republican)</td>\n",
       "    </tr>\n",
       "    <tr>\n",
       "      <th>12</th>\n",
       "      <td>20013</td>\n",
       "      <td>6. Not very strong Republican</td>\n",
       "      <td>2. Mitt Romney (Republican)</td>\n",
       "    </tr>\n",
       "    <tr>\n",
       "      <th>13</th>\n",
       "      <td>20014</td>\n",
       "      <td>6. Not very strong Republican</td>\n",
       "      <td>2. Mitt Romney (Republican)</td>\n",
       "    </tr>\n",
       "    <tr>\n",
       "      <th>14</th>\n",
       "      <td>20015</td>\n",
       "      <td>3. Ind, closer to Democratic</td>\n",
       "      <td>-2</td>\n",
       "    </tr>\n",
       "    <tr>\n",
       "      <th>15</th>\n",
       "      <td>20016</td>\n",
       "      <td>1. Strong Democrat</td>\n",
       "      <td>1. Barack Obama (Democrat)</td>\n",
       "    </tr>\n",
       "    <tr>\n",
       "      <th>16</th>\n",
       "      <td>20017</td>\n",
       "      <td>1. Strong Democrat</td>\n",
       "      <td>1. Barack Obama (Democrat)</td>\n",
       "    </tr>\n",
       "    <tr>\n",
       "      <th>17</th>\n",
       "      <td>20018</td>\n",
       "      <td>7. Strong Republican</td>\n",
       "      <td>2. Mitt Romney (Republican)</td>\n",
       "    </tr>\n",
       "    <tr>\n",
       "      <th>18</th>\n",
       "      <td>20019</td>\n",
       "      <td>4. Independent</td>\n",
       "      <td>-2</td>\n",
       "    </tr>\n",
       "    <tr>\n",
       "      <th>19</th>\n",
       "      <td>20020</td>\n",
       "      <td>3. Ind, closer to Democratic</td>\n",
       "      <td>1. Barack Obama (Democrat)</td>\n",
       "    </tr>\n",
       "    <tr>\n",
       "      <th>20</th>\n",
       "      <td>20021</td>\n",
       "      <td>1. Strong Democrat</td>\n",
       "      <td>1. Barack Obama (Democrat)</td>\n",
       "    </tr>\n",
       "    <tr>\n",
       "      <th>21</th>\n",
       "      <td>20022</td>\n",
       "      <td>7. Strong Republican</td>\n",
       "      <td>2. Mitt Romney (Republican)</td>\n",
       "    </tr>\n",
       "    <tr>\n",
       "      <th>22</th>\n",
       "      <td>20023</td>\n",
       "      <td>4. Independent</td>\n",
       "      <td>2. Mitt Romney (Republican)</td>\n",
       "    </tr>\n",
       "    <tr>\n",
       "      <th>23</th>\n",
       "      <td>20024</td>\n",
       "      <td>1. Strong Democrat</td>\n",
       "      <td>1. Barack Obama (Democrat)</td>\n",
       "    </tr>\n",
       "    <tr>\n",
       "      <th>24</th>\n",
       "      <td>20025</td>\n",
       "      <td>5. Ind, closer to Republican</td>\n",
       "      <td>2. Mitt Romney (Republican)</td>\n",
       "    </tr>\n",
       "    <tr>\n",
       "      <th>25</th>\n",
       "      <td>20026</td>\n",
       "      <td>2. Not very strong Democrat</td>\n",
       "      <td>-2</td>\n",
       "    </tr>\n",
       "    <tr>\n",
       "      <th>26</th>\n",
       "      <td>20027</td>\n",
       "      <td>4. Independent</td>\n",
       "      <td>-2</td>\n",
       "    </tr>\n",
       "    <tr>\n",
       "      <th>27</th>\n",
       "      <td>20028</td>\n",
       "      <td>6. Not very strong Republican</td>\n",
       "      <td>-6</td>\n",
       "    </tr>\n",
       "    <tr>\n",
       "      <th>28</th>\n",
       "      <td>20029</td>\n",
       "      <td>1. Strong Democrat</td>\n",
       "      <td>-2</td>\n",
       "    </tr>\n",
       "    <tr>\n",
       "      <th>29</th>\n",
       "      <td>20030</td>\n",
       "      <td>4. Independent</td>\n",
       "      <td>2. Mitt Romney (Republican)</td>\n",
       "    </tr>\n",
       "    <tr>\n",
       "      <th>...</th>\n",
       "      <td>...</td>\n",
       "      <td>...</td>\n",
       "      <td>...</td>\n",
       "    </tr>\n",
       "    <tr>\n",
       "      <th>5385</th>\n",
       "      <td>25393</td>\n",
       "      <td>3. Ind, closer to Democratic</td>\n",
       "      <td>-6</td>\n",
       "    </tr>\n",
       "    <tr>\n",
       "      <th>5386</th>\n",
       "      <td>25394</td>\n",
       "      <td>6. Not very strong Republican</td>\n",
       "      <td>1. Barack Obama (Democrat)</td>\n",
       "    </tr>\n",
       "    <tr>\n",
       "      <th>5387</th>\n",
       "      <td>25395</td>\n",
       "      <td>7. Strong Republican</td>\n",
       "      <td>-6</td>\n",
       "    </tr>\n",
       "    <tr>\n",
       "      <th>5388</th>\n",
       "      <td>25396</td>\n",
       "      <td>4. Independent</td>\n",
       "      <td>1. Barack Obama (Democrat)</td>\n",
       "    </tr>\n",
       "    <tr>\n",
       "      <th>5389</th>\n",
       "      <td>25397</td>\n",
       "      <td>7. Strong Republican</td>\n",
       "      <td>-6</td>\n",
       "    </tr>\n",
       "    <tr>\n",
       "      <th>5390</th>\n",
       "      <td>25398</td>\n",
       "      <td>3. Ind, closer to Democratic</td>\n",
       "      <td>-6</td>\n",
       "    </tr>\n",
       "    <tr>\n",
       "      <th>5391</th>\n",
       "      <td>25399</td>\n",
       "      <td>2. Not very strong Democrat</td>\n",
       "      <td>-6</td>\n",
       "    </tr>\n",
       "    <tr>\n",
       "      <th>5392</th>\n",
       "      <td>25400</td>\n",
       "      <td>2. Not very strong Democrat</td>\n",
       "      <td>1. Barack Obama (Democrat)</td>\n",
       "    </tr>\n",
       "    <tr>\n",
       "      <th>5393</th>\n",
       "      <td>25401</td>\n",
       "      <td>2. Not very strong Democrat</td>\n",
       "      <td>-6</td>\n",
       "    </tr>\n",
       "    <tr>\n",
       "      <th>5394</th>\n",
       "      <td>25402</td>\n",
       "      <td>7. Strong Republican</td>\n",
       "      <td>2. Mitt Romney (Republican)</td>\n",
       "    </tr>\n",
       "    <tr>\n",
       "      <th>5395</th>\n",
       "      <td>25403</td>\n",
       "      <td>1. Strong Democrat</td>\n",
       "      <td>1. Barack Obama (Democrat)</td>\n",
       "    </tr>\n",
       "    <tr>\n",
       "      <th>5396</th>\n",
       "      <td>25404</td>\n",
       "      <td>6. Not very strong Republican</td>\n",
       "      <td>-2</td>\n",
       "    </tr>\n",
       "    <tr>\n",
       "      <th>5397</th>\n",
       "      <td>25405</td>\n",
       "      <td>1. Strong Democrat</td>\n",
       "      <td>-6</td>\n",
       "    </tr>\n",
       "    <tr>\n",
       "      <th>5398</th>\n",
       "      <td>25406</td>\n",
       "      <td>2. Not very strong Democrat</td>\n",
       "      <td>-6</td>\n",
       "    </tr>\n",
       "    <tr>\n",
       "      <th>5399</th>\n",
       "      <td>25407</td>\n",
       "      <td>5. Ind, closer to Republican</td>\n",
       "      <td>2. Mitt Romney (Republican)</td>\n",
       "    </tr>\n",
       "    <tr>\n",
       "      <th>5400</th>\n",
       "      <td>25408</td>\n",
       "      <td>7. Strong Republican</td>\n",
       "      <td>2. Mitt Romney (Republican)</td>\n",
       "    </tr>\n",
       "    <tr>\n",
       "      <th>5401</th>\n",
       "      <td>25409</td>\n",
       "      <td>1. Strong Democrat</td>\n",
       "      <td>-6</td>\n",
       "    </tr>\n",
       "    <tr>\n",
       "      <th>5402</th>\n",
       "      <td>25410</td>\n",
       "      <td>6. Not very strong Republican</td>\n",
       "      <td>-6</td>\n",
       "    </tr>\n",
       "    <tr>\n",
       "      <th>5403</th>\n",
       "      <td>25411</td>\n",
       "      <td>7. Strong Republican</td>\n",
       "      <td>-6</td>\n",
       "    </tr>\n",
       "    <tr>\n",
       "      <th>5404</th>\n",
       "      <td>25412</td>\n",
       "      <td>1. Strong Democrat</td>\n",
       "      <td>1. Barack Obama (Democrat)</td>\n",
       "    </tr>\n",
       "    <tr>\n",
       "      <th>5405</th>\n",
       "      <td>25413</td>\n",
       "      <td>6. Not very strong Republican</td>\n",
       "      <td>-6</td>\n",
       "    </tr>\n",
       "    <tr>\n",
       "      <th>5406</th>\n",
       "      <td>25414</td>\n",
       "      <td>2. Not very strong Democrat</td>\n",
       "      <td>-6</td>\n",
       "    </tr>\n",
       "    <tr>\n",
       "      <th>5407</th>\n",
       "      <td>25415</td>\n",
       "      <td>7. Strong Republican</td>\n",
       "      <td>-6</td>\n",
       "    </tr>\n",
       "    <tr>\n",
       "      <th>5408</th>\n",
       "      <td>25416</td>\n",
       "      <td>1. Strong Democrat</td>\n",
       "      <td>-6</td>\n",
       "    </tr>\n",
       "    <tr>\n",
       "      <th>5409</th>\n",
       "      <td>25417</td>\n",
       "      <td>4. Independent</td>\n",
       "      <td>-2</td>\n",
       "    </tr>\n",
       "    <tr>\n",
       "      <th>5410</th>\n",
       "      <td>25418</td>\n",
       "      <td>5. Ind, closer to Republican</td>\n",
       "      <td>-2</td>\n",
       "    </tr>\n",
       "    <tr>\n",
       "      <th>5411</th>\n",
       "      <td>25419</td>\n",
       "      <td>5. Ind, closer to Republican</td>\n",
       "      <td>2. Mitt Romney (Republican)</td>\n",
       "    </tr>\n",
       "    <tr>\n",
       "      <th>5412</th>\n",
       "      <td>25420</td>\n",
       "      <td>2. Not very strong Democrat</td>\n",
       "      <td>1. Barack Obama (Democrat)</td>\n",
       "    </tr>\n",
       "    <tr>\n",
       "      <th>5413</th>\n",
       "      <td>25421</td>\n",
       "      <td>3. Ind, closer to Democratic</td>\n",
       "      <td>-6</td>\n",
       "    </tr>\n",
       "    <tr>\n",
       "      <th>5414</th>\n",
       "      <td>25422</td>\n",
       "      <td>-2</td>\n",
       "      <td>-2</td>\n",
       "    </tr>\n",
       "  </tbody>\n",
       "</table>\n",
       "<p>5415 rows × 3 columns</p>\n",
       "</div>"
      ],
      "text/plain": [
       "      Case_ID              Party_Affiliation                    Pres_Vote\n",
       "0       20001    2. Not very strong Democrat   1. Barack Obama (Democrat)\n",
       "1       20002  6. Not very strong Republican                           -6\n",
       "2       20003    2. Not very strong Democrat   1. Barack Obama (Democrat)\n",
       "3       20004    2. Not very strong Democrat   1. Barack Obama (Democrat)\n",
       "4       20005  6. Not very strong Republican  2. Mitt Romney (Republican)\n",
       "5       20006                 4. Independent                           -2\n",
       "6       20007   5. Ind, closer to Republican  2. Mitt Romney (Republican)\n",
       "7       20008           7. Strong Republican  2. Mitt Romney (Republican)\n",
       "8       20009             1. Strong Democrat   1. Barack Obama (Democrat)\n",
       "9       20010                 4. Independent  2. Mitt Romney (Republican)\n",
       "10      20011    2. Not very strong Democrat   1. Barack Obama (Democrat)\n",
       "11      20012  6. Not very strong Republican  2. Mitt Romney (Republican)\n",
       "12      20013  6. Not very strong Republican  2. Mitt Romney (Republican)\n",
       "13      20014  6. Not very strong Republican  2. Mitt Romney (Republican)\n",
       "14      20015   3. Ind, closer to Democratic                           -2\n",
       "15      20016             1. Strong Democrat   1. Barack Obama (Democrat)\n",
       "16      20017             1. Strong Democrat   1. Barack Obama (Democrat)\n",
       "17      20018           7. Strong Republican  2. Mitt Romney (Republican)\n",
       "18      20019                 4. Independent                           -2\n",
       "19      20020   3. Ind, closer to Democratic   1. Barack Obama (Democrat)\n",
       "20      20021             1. Strong Democrat   1. Barack Obama (Democrat)\n",
       "21      20022           7. Strong Republican  2. Mitt Romney (Republican)\n",
       "22      20023                 4. Independent  2. Mitt Romney (Republican)\n",
       "23      20024             1. Strong Democrat   1. Barack Obama (Democrat)\n",
       "24      20025   5. Ind, closer to Republican  2. Mitt Romney (Republican)\n",
       "25      20026    2. Not very strong Democrat                           -2\n",
       "26      20027                 4. Independent                           -2\n",
       "27      20028  6. Not very strong Republican                           -6\n",
       "28      20029             1. Strong Democrat                           -2\n",
       "29      20030                 4. Independent  2. Mitt Romney (Republican)\n",
       "...       ...                            ...                          ...\n",
       "5385    25393   3. Ind, closer to Democratic                           -6\n",
       "5386    25394  6. Not very strong Republican   1. Barack Obama (Democrat)\n",
       "5387    25395           7. Strong Republican                           -6\n",
       "5388    25396                 4. Independent   1. Barack Obama (Democrat)\n",
       "5389    25397           7. Strong Republican                           -6\n",
       "5390    25398   3. Ind, closer to Democratic                           -6\n",
       "5391    25399    2. Not very strong Democrat                           -6\n",
       "5392    25400    2. Not very strong Democrat   1. Barack Obama (Democrat)\n",
       "5393    25401    2. Not very strong Democrat                           -6\n",
       "5394    25402           7. Strong Republican  2. Mitt Romney (Republican)\n",
       "5395    25403             1. Strong Democrat   1. Barack Obama (Democrat)\n",
       "5396    25404  6. Not very strong Republican                           -2\n",
       "5397    25405             1. Strong Democrat                           -6\n",
       "5398    25406    2. Not very strong Democrat                           -6\n",
       "5399    25407   5. Ind, closer to Republican  2. Mitt Romney (Republican)\n",
       "5400    25408           7. Strong Republican  2. Mitt Romney (Republican)\n",
       "5401    25409             1. Strong Democrat                           -6\n",
       "5402    25410  6. Not very strong Republican                           -6\n",
       "5403    25411           7. Strong Republican                           -6\n",
       "5404    25412             1. Strong Democrat   1. Barack Obama (Democrat)\n",
       "5405    25413  6. Not very strong Republican                           -6\n",
       "5406    25414    2. Not very strong Democrat                           -6\n",
       "5407    25415           7. Strong Republican                           -6\n",
       "5408    25416             1. Strong Democrat                           -6\n",
       "5409    25417                 4. Independent                           -2\n",
       "5410    25418   5. Ind, closer to Republican                           -2\n",
       "5411    25419   5. Ind, closer to Republican  2. Mitt Romney (Republican)\n",
       "5412    25420    2. Not very strong Democrat   1. Barack Obama (Democrat)\n",
       "5413    25421   3. Ind, closer to Democratic                           -6\n",
       "5414    25422                             -2                           -2\n",
       "\n",
       "[5415 rows x 3 columns]"
      ]
     },
     "execution_count": 80,
     "metadata": {},
     "output_type": "execute_result"
    }
   ],
   "source": [
    "#here im remaning the columns so they are more understandable\n",
    "percept_vote.columns=[['Case_ID','Party_Affiliation', 'Pres_Vote']]\n",
    "percept_vote"
   ]
  },
  {
   "cell_type": "code",
   "execution_count": 68,
   "metadata": {
    "collapsed": false
   },
   "outputs": [
    {
     "data": {
      "text/html": [
       "<div>\n",
       "<table border=\"1\" class=\"dataframe\">\n",
       "  <thead>\n",
       "    <tr style=\"text-align: right;\">\n",
       "      <th></th>\n",
       "      <th>Case_ID</th>\n",
       "      <th>Pres_Vote</th>\n",
       "    </tr>\n",
       "    <tr>\n",
       "      <th>Party_Affiliation</th>\n",
       "      <th></th>\n",
       "      <th></th>\n",
       "    </tr>\n",
       "  </thead>\n",
       "  <tbody>\n",
       "    <tr>\n",
       "      <th>-2.0</th>\n",
       "      <td>25422</td>\n",
       "      <td>-2</td>\n",
       "    </tr>\n",
       "    <tr>\n",
       "      <th>1. Strong Democrat</th>\n",
       "      <td>20798</td>\n",
       "      <td>1. Barack Obama (Democrat)</td>\n",
       "    </tr>\n",
       "    <tr>\n",
       "      <th>1. Strong Democrat</th>\n",
       "      <td>23612</td>\n",
       "      <td>-2</td>\n",
       "    </tr>\n",
       "    <tr>\n",
       "      <th>1. Strong Democrat</th>\n",
       "      <td>23619</td>\n",
       "      <td>-6</td>\n",
       "    </tr>\n",
       "    <tr>\n",
       "      <th>1. Strong Democrat</th>\n",
       "      <td>23624</td>\n",
       "      <td>1. Barack Obama (Democrat)</td>\n",
       "    </tr>\n",
       "  </tbody>\n",
       "</table>\n",
       "</div>"
      ],
      "text/plain": [
       "                    Case_ID                   Pres_Vote\n",
       "Party_Affiliation                                      \n",
       "-2.0                  25422                          -2\n",
       "1. Strong Democrat    20798  1. Barack Obama (Democrat)\n",
       "1. Strong Democrat    23612                          -2\n",
       "1. Strong Democrat    23619                          -6\n",
       "1. Strong Democrat    23624  1. Barack Obama (Democrat)"
      ]
     },
     "execution_count": 68,
     "metadata": {},
     "output_type": "execute_result"
    }
   ],
   "source": [
    "#here im reindexing the table to party affiliation\n",
    "caseid_by_party_affil = percept_vote.set_index(['Party_Affiliation']).sort_index()\n",
    "caseid_by_party_affil.head()"
   ]
  },
  {
   "cell_type": "code",
   "execution_count": 69,
   "metadata": {
    "collapsed": false
   },
   "outputs": [],
   "source": [
    "caseid_by_party_affil.columns=[['CaseID','Vote']]"
   ]
  },
  {
   "cell_type": "code",
   "execution_count": 70,
   "metadata": {
    "collapsed": false
   },
   "outputs": [
    {
     "data": {
      "text/plain": [
       "1. Strong Democrat               1079\n",
       "7. Strong Republican              859\n",
       "2. Not very strong Democrat       785\n",
       "4. Independent                    748\n",
       "6. Not very strong Republican     692\n",
       "3. Ind, closer to Democratic      653\n",
       "5. Ind, closer to Republican      598\n",
       "-2.0                                1\n",
       "dtype: int64"
      ]
     },
     "execution_count": 70,
     "metadata": {},
     "output_type": "execute_result"
    }
   ],
   "source": [
    "percept_vote.Party_Affiliation.value_counts()"
   ]
  },
  {
   "cell_type": "code",
   "execution_count": 71,
   "metadata": {
    "collapsed": false
   },
   "outputs": [
    {
     "data": {
      "image/png": "[encoded data removed]",
      "text/plain": [
       "<matplotlib.figure.Figure at 0x1153dcba8>"
      ]
     },
     "metadata": {},
     "output_type": "display_data"
    }
   ],
   "source": [
    "percept_vote.Party_Affiliation.value_counts().plot(kind='bar')\n",
    "plt.show()"
   ]
  },
  {
   "cell_type": "code",
   "execution_count": 74,
   "metadata": {
    "collapsed": false
   },
   "outputs": [
    {
     "data": {
      "image/png": "[encoded data removed]",
      "text/plain": [
       "<matplotlib.figure.Figure at 0x1112aab70>"
      ]
     },
     "metadata": {},
     "output_type": "display_data"
    }
   ],
   "source": [
    "percept_vote.Pres_Vote.value_counts().plot(kind='bar')\n",
    "plt.show()"
   ]
  },
  {
   "cell_type": "code",
   "execution_count": null,
   "metadata": {
    "collapsed": true
   },
   "outputs": [],
   "source": [
    "pd.read_stata()"
   ]
  },
  {
   "cell_type": "code",
   "execution_count": null,
   "metadata": {
    "collapsed": true
   },
   "outputs": [],
   "source": [
    "plt.plot()"
   ]
  },
  {
   "cell_type": "code",
   "execution_count": null,
   "metadata": {
    "collapsed": true
   },
   "outputs": [],
   "source": []
  },
  {
   "cell_type": "code",
   "execution_count": null,
   "metadata": {
    "collapsed": true
   },
   "outputs": [],
   "source": []
  },
  {
   "cell_type": "code",
   "execution_count": 86,
   "metadata": {
    "collapsed": true
   },
   "outputs": [],
   "source": [
    "voters = filename[filename.dd_rvote2012_x == '1. Voted']"
   ]
  },
  {
   "cell_type": "code",
   "execution_count": null,
   "metadata": {
    "collapsed": true
   },
   "outputs": [],
   "source": []
  },
  {
   "cell_type": "code",
   "execution_count": 87,
   "metadata": {
    "collapsed": false
   },
   "outputs": [],
   "source": [
    "dem_voters = voters[(voters.dd_pid_x == '2. Not very strong Democrat')|(voters.dd_pid_x == '1. Strong Democrat')]"
   ]
  },
  {
   "cell_type": "code",
   "execution_count": null,
   "metadata": {
    "collapsed": false
   },
   "outputs": [],
   "source": []
  },
  {
   "cell_type": "code",
   "execution_count": 88,
   "metadata": {
    "collapsed": false
   },
   "outputs": [],
   "source": [
    "rep_voters = voters[(voters.dd_pid_x == '6. Not very strong Republican') | (voters.dd_pid_x == '7. Strong Republican')]"
   ]
  },
  {
   "cell_type": "code",
   "execution_count": 89,
   "metadata": {
    "collapsed": false
   },
   "outputs": [],
   "source": [
    "ind_voters = voters[(voters.dd_pid_x == '4. Independent')|(voters.dd_pid_x == '5. Ind, closer to Republican')|(voters.dd_pid_x == '3. Ind, closer to Democratic')]"
   ]
  },
  {
   "cell_type": "code",
   "execution_count": 94,
   "metadata": {
    "collapsed": false
   },
   "outputs": [
    {
     "ename": "AttributeError",
     "evalue": "'list' object has no attribute 'plot'",
     "output_type": "error",
     "traceback": [
      "\u001b[0;31m---------------------------------------------------------------------------\u001b[0m",
      "\u001b[0;31mAttributeError\u001b[0m                            Traceback (most recent call last)",
      "\u001b[0;32m<ipython-input-94-00c743bc3e2b>\u001b[0m in \u001b[0;36m<module>\u001b[0;34m()\u001b[0m\n\u001b[1;32m      1\u001b[0m \u001b[0mDF\u001b[0m\u001b[0;34m=\u001b[0m\u001b[0;34m[\u001b[0m\u001b[0;34m[\u001b[0m\u001b[0mlen\u001b[0m\u001b[0;34m(\u001b[0m\u001b[0mdem_voters\u001b[0m\u001b[0;34m.\u001b[0m\u001b[0mdd_pid_x\u001b[0m\u001b[0;34m)\u001b[0m\u001b[0;34m,\u001b[0m \u001b[0mlen\u001b[0m\u001b[0;34m(\u001b[0m\u001b[0mrep_voters\u001b[0m\u001b[0;34m.\u001b[0m\u001b[0mdd_pid_x\u001b[0m\u001b[0;34m)\u001b[0m\u001b[0;34m,\u001b[0m \u001b[0mlen\u001b[0m\u001b[0;34m(\u001b[0m\u001b[0mind_voters\u001b[0m\u001b[0;34m.\u001b[0m\u001b[0mdd_pid_x\u001b[0m\u001b[0;34m)\u001b[0m\u001b[0;34m]\u001b[0m\u001b[0;34m]\u001b[0m\u001b[0;34m\u001b[0m\u001b[0m\n\u001b[0;32m----> 2\u001b[0;31m \u001b[0mDF\u001b[0m\u001b[0;34m.\u001b[0m\u001b[0mplot\u001b[0m\u001b[0;34m(\u001b[0m\u001b[0mkind\u001b[0m\u001b[0;34m=\u001b[0m\u001b[0;34m'bar'\u001b[0m\u001b[0;34m)\u001b[0m\u001b[0;34m\u001b[0m\u001b[0m\n\u001b[0m",
      "\u001b[0;31mAttributeError\u001b[0m: 'list' object has no attribute 'plot'"
     ]
    }
   ],
   "source": [
    "DF=[[len(dem_voters.dd_pid_x), len(rep_voters.dd_pid_x), len(ind_voters.dd_pid_x)]]\n",
    "DF.plot(kind='bar')\n"
   ]
  },
  {
   "cell_type": "code",
   "execution_count": 84,
   "metadata": {
    "collapsed": false
   },
   "outputs": [
    {
     "ename": "KeyError",
     "evalue": "'*Democrat'",
     "output_type": "error",
     "traceback": [
      "\u001b[0;31m---------------------------------------------------------------------------\u001b[0m",
      "\u001b[0;31mKeyError\u001b[0m                                  Traceback (most recent call last)",
      "\u001b[0;32m<ipython-input-84-150879db6231>\u001b[0m in \u001b[0;36m<module>\u001b[0;34m()\u001b[0m\n\u001b[1;32m      2\u001b[0m \u001b[0;31m#string in the column that you specified\u001b[0m\u001b[0;34m\u001b[0m\u001b[0;34m\u001b[0m\u001b[0m\n\u001b[1;32m      3\u001b[0m \u001b[0;34m\u001b[0m\u001b[0m\n\u001b[0;32m----> 4\u001b[0;31m \u001b[0mpercept_vote\u001b[0m\u001b[0;34m.\u001b[0m\u001b[0mgroupby\u001b[0m\u001b[0;34m(\u001b[0m\u001b[0;34m[\u001b[0m\u001b[0;34m'Party_Affiliation'\u001b[0m\u001b[0;34m]\u001b[0m\u001b[0;34m)\u001b[0m\u001b[0;34m.\u001b[0m\u001b[0mget_group\u001b[0m\u001b[0;34m(\u001b[0m\u001b[0;34m'*Democrat'\u001b[0m\u001b[0;34m)\u001b[0m\u001b[0;34m\u001b[0m\u001b[0m\n\u001b[0m\u001b[1;32m      5\u001b[0m \u001b[0;34m\u001b[0m\u001b[0m\n\u001b[1;32m      6\u001b[0m \u001b[0;31m# You could do this for all 3 groups you are trying to separate in the column, to create 3 different dataframes.\u001b[0m\u001b[0;34m\u001b[0m\u001b[0;34m\u001b[0m\u001b[0m\n",
      "\u001b[0;32m/Users/andershornor/anaconda/lib/python3.4/site-packages/pandas/core/groupby.py\u001b[0m in \u001b[0;36mget_group\u001b[0;34m(self, name, obj)\u001b[0m\n\u001b[1;32m    644\u001b[0m         \u001b[0minds\u001b[0m \u001b[0;34m=\u001b[0m \u001b[0mself\u001b[0m\u001b[0;34m.\u001b[0m\u001b[0m_get_index\u001b[0m\u001b[0;34m(\u001b[0m\u001b[0mname\u001b[0m\u001b[0;34m)\u001b[0m\u001b[0;34m\u001b[0m\u001b[0m\n\u001b[1;32m    645\u001b[0m         \u001b[0;32mif\u001b[0m \u001b[0;32mnot\u001b[0m \u001b[0mlen\u001b[0m\u001b[0;34m(\u001b[0m\u001b[0minds\u001b[0m\u001b[0;34m)\u001b[0m\u001b[0;34m:\u001b[0m\u001b[0;34m\u001b[0m\u001b[0m\n\u001b[0;32m--> 646\u001b[0;31m             \u001b[0;32mraise\u001b[0m \u001b[0mKeyError\u001b[0m\u001b[0;34m(\u001b[0m\u001b[0mname\u001b[0m\u001b[0;34m)\u001b[0m\u001b[0;34m\u001b[0m\u001b[0m\n\u001b[0m\u001b[1;32m    647\u001b[0m \u001b[0;34m\u001b[0m\u001b[0m\n\u001b[1;32m    648\u001b[0m         \u001b[0;32mreturn\u001b[0m \u001b[0mobj\u001b[0m\u001b[0;34m.\u001b[0m\u001b[0mtake\u001b[0m\u001b[0;34m(\u001b[0m\u001b[0minds\u001b[0m\u001b[0;34m,\u001b[0m \u001b[0maxis\u001b[0m\u001b[0;34m=\u001b[0m\u001b[0mself\u001b[0m\u001b[0;34m.\u001b[0m\u001b[0maxis\u001b[0m\u001b[0;34m,\u001b[0m \u001b[0mconvert\u001b[0m\u001b[0;34m=\u001b[0m\u001b[0;32mFalse\u001b[0m\u001b[0;34m)\u001b[0m\u001b[0;34m\u001b[0m\u001b[0m\n",
      "\u001b[0;31mKeyError\u001b[0m: '*Democrat'"
     ]
    }
   ],
   "source": [
    "#This will help you group by a string in a column and will create a new dataframe with just this \n",
    "#string in the column that you specified\n",
    "\n",
    "percept_vote.groupby(['Party_Affiliation']).get_group('Democrat')\n",
    "\n",
    "# You could do this for all 3 groups you are trying to separate in the column, to create 3 different dataframes.\n",
    "# You could work with these dataframes sepereately or you could join them together. \n",
    " "
   ]
  },
  {
   "cell_type": "code",
   "execution_count": null,
   "metadata": {
    "collapsed": false
   },
   "outputs": [],
   "source": [
    "pd.read_table('u')"
   ]
  },
  {
   "cell_type": "code",
   "execution_count": null,
   "metadata": {
    "collapsed": false
   },
   "outputs": [],
   "source": []
  },
  {
   "cell_type": "code",
   "execution_count": null,
   "metadata": {
    "collapsed": true
   },
   "outputs": [],
   "source": []
  }
 ],
 "metadata": {
  "kernelspec": {
   "display_name": "Python 3",
   "language": "python",
   "name": "python3"
  },
  "language_info": {
   "codemirror_mode": {
    "name": "ipython",
    "version": 3
   },
   "file_extension": ".py",
   "mimetype": "text/x-python",
   "name": "python",
   "nbconvert_exporter": "python",
   "pygments_lexer": "ipython3",
   "version": "3.4.3"
  }
 },
 "nbformat": 4,
 "nbformat_minor": 0
}
